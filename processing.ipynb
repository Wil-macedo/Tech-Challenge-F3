{
 "cells": [
  {
   "cell_type": "code",
   "execution_count": 7,
   "metadata": {},
   "outputs": [
    {
     "name": "stdout",
     "output_type": "stream",
     "text": [
      "('Time', 'float64')\n",
      "('V1', 'float64')\n",
      "('V2', 'float64')\n",
      "('V3', 'float64')\n",
      "('V4', 'float64')\n",
      "('V5', 'float64')\n",
      "('V6', 'float64')\n",
      "('V7', 'float64')\n",
      "('V8', 'float64')\n",
      "('V9', 'float64')\n",
      "('V10', 'float64')\n",
      "('V11', 'float64')\n",
      "('V12', 'float64')\n",
      "('V13', 'float64')\n",
      "('V14', 'float64')\n",
      "('V15', 'float64')\n",
      "('V16', 'float64')\n",
      "('V17', 'float64')\n",
      "('V18', 'float64')\n",
      "('V19', 'float64')\n",
      "('V20', 'float64')\n",
      "('V21', 'float64')\n",
      "('V22', 'float64')\n",
      "('V23', 'float64')\n",
      "('V24', 'float64')\n",
      "('V25', 'float64')\n",
      "('V26', 'float64')\n",
      "('V27', 'float64')\n",
      "('V28', 'float64')\n",
      "('Amount', 'float64')\n",
      "('Class', 'int64')\n"
     ]
    }
   ],
   "source": [
    "import pandas as pd\n",
    "from sql import *\n",
    "from datetime import datetime\n",
    "\n",
    "df = pd.read_csv(\"DATASET/base.csv\")\n",
    "\n",
    "# Get column names and data types\n",
    "typesColumns = [(col, str(df[col].dtype)) for col in df.columns]\n",
    "\n",
    "# Exibir os nomes das colunas e os tipos de dados\n",
    "for info in typesColumns:\n",
    "    print(info)\n"
   ]
  },
  {
   "cell_type": "markdown",
   "metadata": {},
   "source": [
    "# QUERY PARA CRIAÇÃO DE TABELA <H5>\n",
    "\n",
    "CREATE TABLE IF NOT EXISTS dataCredit (\n",
    "    Time INT, <br> \n",
    "    V1 FLOAT, <br> \n",
    "    V2 FLOAT, <br> \n",
    "    V3 FLOAT, <br> \n",
    "    V4 FLOAT, <br> \n",
    "    V5 FLOAT, <br> \n",
    "    V6 FLOAT, <br> \n",
    "    V7 FLOAT, <br> \n",
    "    V8 FLOAT, <br> \n",
    "    V9 FLOAT, <br> \n",
    "    V10 FLOAT, <br> \n",
    "    V11 FLOAT, <br> \n",
    "    V12 FLOAT, <br> \n",
    "    V13 FLOAT, <br> \n",
    "    V14 FLOAT, <br> \n",
    "    V15 FLOAT, <br> \n",
    "    V16 FLOAT, <br> \n",
    "    V17 FLOAT, <br> \n",
    "    V18 FLOAT, <br> \n",
    "    V19 FLOAT, <br> \n",
    "    V20 FLOAT, <br> \n",
    "    V21 FLOAT, <br> \n",
    "    V22 FLOAT, <br> \n",
    "    V23 FLOAT, <br> \n",
    "    V24 FLOAT, <br> \n",
    "    V25 FLOAT, <br> \n",
    "    V26 FLOAT, <br> \n",
    "    V27 FLOAT, <br> \n",
    "    V28 FLOAT, <br> \n",
    "    Amount FLOAT, <br> \n",
    "    _Class INT\n",
    "    )"
   ]
  },
  {
   "cell_type": "markdown",
   "metadata": {},
   "source": [
    "# Para inserção dos registros, foi feito upload do arquivo base.csv no S3 e executado o seguinte comando:\n",
    "\n",
    "DOCS: https://docs.aws.amazon.com/AmazonRDS/latest/UserGuide/USER_PostgreSQL.S3Import.InstallExtension.html\n",
    "\n",
    "\n",
    "SELECT aws_s3.table_import_from_s3(\n",
    "  'datacredit',\n",
    "  '',\n",
    "  '(format csv, header true)',\n",
    "  aws_commons.create_s3_uri('tech-challenge-will', 'TC_FASE_3/base.csv', 'us-east-1')\n",
    ");"
   ]
  }
 ],
 "metadata": {
  "kernelspec": {
   "display_name": "Python 3",
   "language": "python",
   "name": "python3"
  },
  "language_info": {
   "codemirror_mode": {
    "name": "ipython",
    "version": 3
   },
   "file_extension": ".py",
   "mimetype": "text/x-python",
   "name": "python",
   "nbconvert_exporter": "python",
   "pygments_lexer": "ipython3",
   "version": "3.9.2"
  }
 },
 "nbformat": 4,
 "nbformat_minor": 2
}
