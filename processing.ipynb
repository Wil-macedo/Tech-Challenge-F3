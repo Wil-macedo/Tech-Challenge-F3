{
 "cells": [
  {
   "cell_type": "code",
   "execution_count": 8,
   "metadata": {},
   "outputs": [
    {
     "ename": "ModuleNotFoundError",
     "evalue": "No module named 'libs.sql'",
     "output_type": "error",
     "traceback": [
      "\u001b[1;31m---------------------------------------------------------------------------\u001b[0m",
      "\u001b[1;31mModuleNotFoundError\u001b[0m                       Traceback (most recent call last)",
      "Cell \u001b[1;32mIn[8], line 2\u001b[0m\n\u001b[0;32m      1\u001b[0m \u001b[38;5;28;01mimport\u001b[39;00m \u001b[38;5;21;01mpandas\u001b[39;00m \u001b[38;5;28;01mas\u001b[39;00m \u001b[38;5;21;01mpd\u001b[39;00m\n\u001b[1;32m----> 2\u001b[0m \u001b[38;5;28;01mfrom\u001b[39;00m \u001b[38;5;21;01mlibs\u001b[39;00m\u001b[38;5;21;01m.\u001b[39;00m\u001b[38;5;21;01msql\u001b[39;00m \u001b[38;5;28;01mimport\u001b[39;00m \u001b[38;5;241m*\u001b[39m\n\u001b[0;32m      3\u001b[0m \u001b[38;5;28;01mfrom\u001b[39;00m \u001b[38;5;21;01mdatetime\u001b[39;00m \u001b[38;5;28;01mimport\u001b[39;00m datetime\n\u001b[0;32m      5\u001b[0m df \u001b[38;5;241m=\u001b[39m pd\u001b[38;5;241m.\u001b[39mread_csv(\u001b[38;5;124m\"\u001b[39m\u001b[38;5;124mDATASET/base.csv\u001b[39m\u001b[38;5;124m\"\u001b[39m)\n",
      "\u001b[1;31mModuleNotFoundError\u001b[0m: No module named 'libs.sql'"
     ]
    }
   ],
   "source": [
    "import pandas as pd\n",
    "from libs.sql import *\n",
    "from datetime import datetime\n",
    "\n",
    "df = pd.read_csv(\"DATASET/base.csv\")\n",
    "\n",
    "# Get column names and data types\n",
    "typesColumns = [(col, str(df[col].dtype)) for col in df.columns]\n",
    "\n",
    "# Exibir os nomes das colunas e os tipos de dados\n",
    "for info in typesColumns:\n",
    "    print(info)\n"
   ]
  },
  {
   "cell_type": "markdown",
   "metadata": {},
   "source": [
    "# QUERY PARA CRIAÇÃO DE TABELA <H5>\n",
    "\n",
    "CREATE TABLE IF NOT EXISTS dataCredit (\n",
    "    Time INT, <br> \n",
    "    V1 FLOAT, <br> \n",
    "    V2 FLOAT, <br> \n",
    "    V3 FLOAT, <br> \n",
    "    V4 FLOAT, <br> \n",
    "    V5 FLOAT, <br> \n",
    "    V6 FLOAT, <br> \n",
    "    V7 FLOAT, <br> \n",
    "    V8 FLOAT, <br> \n",
    "    V9 FLOAT, <br> \n",
    "    V10 FLOAT, <br> \n",
    "    V11 FLOAT, <br> \n",
    "    V12 FLOAT, <br> \n",
    "    V13 FLOAT, <br> \n",
    "    V14 FLOAT, <br> \n",
    "    V15 FLOAT, <br> \n",
    "    V16 FLOAT, <br> \n",
    "    V17 FLOAT, <br> \n",
    "    V18 FLOAT, <br> \n",
    "    V19 FLOAT, <br> \n",
    "    V20 FLOAT, <br> \n",
    "    V21 FLOAT, <br> \n",
    "    V22 FLOAT, <br> \n",
    "    V23 FLOAT, <br> \n",
    "    V24 FLOAT, <br> \n",
    "    V25 FLOAT, <br> \n",
    "    V26 FLOAT, <br> \n",
    "    V27 FLOAT, <br> \n",
    "    V28 FLOAT, <br> \n",
    "    Amount FLOAT, <br> \n",
    "    _Class INT\n",
    "    )"
   ]
  },
  {
   "cell_type": "markdown",
   "metadata": {},
   "source": [
    "# Para inserção dos registros, foi feito upload do arquivo base.csv no S3 e executado o seguinte comando:\n",
    "\n",
    "DOCS: https://docs.aws.amazon.com/AmazonRDS/latest/UserGuide/USER_PostgreSQL.S3Import.InstallExtension.html\n",
    "\n",
    "\n",
    "SELECT aws_s3.table_import_from_s3(\n",
    "  'datacredit',\n",
    "  '',\n",
    "  '(format csv, header true)',\n",
    "  aws_commons.create_s3_uri('tech-challenge-will', 'TC_FASE_3/base.csv', 'us-east-1')\n",
    ");"
   ]
  }
 ],
 "metadata": {
  "kernelspec": {
   "display_name": "Python 3",
   "language": "python",
   "name": "python3"
  },
  "language_info": {
   "codemirror_mode": {
    "name": "ipython",
    "version": 3
   },
   "file_extension": ".py",
   "mimetype": "text/x-python",
   "name": "python",
   "nbconvert_exporter": "python",
   "pygments_lexer": "ipython3",
   "version": "3.9.2"
  }
 },
 "nbformat": 4,
 "nbformat_minor": 2
}
